{
 "cells": [
  {
   "cell_type": "markdown",
   "metadata": {},
   "source": [
    "# Dependencies"
   ]
  },
  {
   "cell_type": "code",
   "execution_count": 72,
   "metadata": {},
   "outputs": [],
   "source": [
    "#pip install opencv-python"
   ]
  },
  {
   "cell_type": "code",
   "execution_count": 73,
   "metadata": {},
   "outputs": [],
   "source": [
    "import cv2\n",
    "import numpy as np"
   ]
  },
  {
   "cell_type": "markdown",
   "metadata": {},
   "source": [
    "# Importing Image"
   ]
  },
  {
   "cell_type": "code",
   "execution_count": 74,
   "metadata": {},
   "outputs": [
    {
     "data": {
      "text/plain": [
       "(1000, 2000)"
      ]
     },
     "execution_count": 74,
     "metadata": {},
     "output_type": "execute_result"
    }
   ],
   "source": [
    "img = cv2.imread('../assets/hello/hello.jpeg',0)\n",
    "img.shape"
   ]
  },
  {
   "cell_type": "markdown",
   "metadata": {},
   "source": [
    "# Edge detection using Robert Operator"
   ]
  },
  {
   "cell_type": "code",
   "execution_count": 75,
   "metadata": {},
   "outputs": [
    {
     "data": {
      "text/plain": [
       "True"
      ]
     },
     "execution_count": 75,
     "metadata": {},
     "output_type": "execute_result"
    }
   ],
   "source": [
    "robert_operator_x = np.array([[-1, 0], [0, 1]])\n",
    "robert_operator_y = np.array([[0, -1], [1, 0]])\n",
    "\n",
    "robert_edge_x = cv2.filter2D(img, cv2.CV_64F, robert_operator_x)\n",
    "robert_edge_y = cv2.filter2D(img, cv2.CV_64F, robert_operator_y)\n",
    "\n",
    "robert_edge = np.sqrt(robert_edge_x**2 + robert_edge_y**2)\n",
    "\n",
    "cv2.imwrite('../assets/robert/robert_edgex.jpeg',robert_edge_x)\n",
    "cv2.imwrite('../assets/robert/robert_edgey.jpeg',robert_edge_y)\n",
    "cv2.imwrite('../assets/robert/robert_edge.jpeg',robert_edge)"
   ]
  },
  {
   "cell_type": "markdown",
   "metadata": {},
   "source": [
    "# Edge detection using Prewitt Operator"
   ]
  },
  {
   "cell_type": "code",
   "execution_count": 76,
   "metadata": {},
   "outputs": [
    {
     "data": {
      "text/plain": [
       "True"
      ]
     },
     "execution_count": 76,
     "metadata": {},
     "output_type": "execute_result"
    }
   ],
   "source": [
    "prewitt_operator_x = np.array([[-1, -1, -1], [0, 0, 0], [1, 1, 1]])\n",
    "prewitt_operator_y = np.array([[-1, 0, 1], [-1, 0, 1], [-1, 0, 1]])\n",
    "\n",
    "prewitt_edge_x = cv2.filter2D(img, cv2.CV_64F, prewitt_operator_x)\n",
    "prewitt_edge_y = cv2.filter2D(img, cv2.CV_64F, prewitt_operator_y)\n",
    "\n",
    "prewitt_edge = np.sqrt(prewitt_edge_x**2 + prewitt_edge_y**2)\n",
    "\n",
    "cv2.imwrite('../assets/prewitt/prewitt_edgex.jpeg', prewitt_edge_x)\n",
    "cv2.imwrite('../assets/prewitt/prewitt_edgey.jpeg', prewitt_edge_y)\n",
    "cv2.imwrite('../assets/prewitt/prewitt_edge.jpeg', prewitt_edge)"
   ]
  },
  {
   "cell_type": "markdown",
   "metadata": {},
   "source": [
    "# Edge detection using Sobel Operator"
   ]
  },
  {
   "cell_type": "code",
   "execution_count": 77,
   "metadata": {},
   "outputs": [
    {
     "data": {
      "text/plain": [
       "True"
      ]
     },
     "execution_count": 77,
     "metadata": {},
     "output_type": "execute_result"
    }
   ],
   "source": [
    "sobel_edge_x = cv2.Sobel(img, cv2.CV_64F, 1, 0, ksize=3)\n",
    "sobel_edge_y = cv2.Sobel(img, cv2.CV_64F, 0, 1, ksize=3)\n",
    "\n",
    "sobel_edge = np.sqrt(sobel_edge_x**2 + sobel_edge_y**2)\n",
    "\n",
    "cv2.imwrite('../assets/sobel/sobel_edge_auto.jpeg', sobel_edge)"
   ]
  },
  {
   "cell_type": "code",
   "execution_count": 78,
   "metadata": {},
   "outputs": [
    {
     "data": {
      "text/plain": [
       "True"
      ]
     },
     "execution_count": 78,
     "metadata": {},
     "output_type": "execute_result"
    }
   ],
   "source": [
    "sobel_operator_x = np.array([[-1, -2, -1], [0, 0, 0], [1, 2, 1]])\n",
    "sobel_operator_y = np.array([[-1, 0, 1], [-2, 0, 2], [-1, 0, 1]])\n",
    "\n",
    "sobel_edge_x = cv2.filter2D(img, cv2.CV_64F, sobel_operator_x)\n",
    "sobel_edge_y = cv2.filter2D(img, cv2.CV_64F, sobel_operator_y)\n",
    "\n",
    "sobel_edge = np.sqrt(sobel_edge_x**2 + sobel_edge_y**2)\n",
    "\n",
    "cv2.imwrite('../assets/sobel/sobel_edgex.jpeg', sobel_edge_x)\n",
    "cv2.imwrite('../assets/sobel/sobel_edgey.jpeg', sobel_edge_y)\n",
    "cv2.imwrite('../assets/sobel/sobel_edge.jpeg', sobel_edge)"
   ]
  },
  {
   "cell_type": "markdown",
   "metadata": {},
   "source": [
    "# Edge detection using Kirsch Operator"
   ]
  },
  {
   "cell_type": "code",
   "execution_count": 79,
   "metadata": {
    "vscode": {
     "languageId": "ruby"
    }
   },
   "outputs": [
    {
     "data": {
      "text/plain": [
       "True"
      ]
     },
     "execution_count": 79,
     "metadata": {},
     "output_type": "execute_result"
    }
   ],
   "source": [
    "kirsch_operator_0 = np.array([[5, 5, 5], [-3, 0, -3], [-3, -3, -3]])\n",
    "kirsch_operator_45 = np.array([[5, 5, -3], [5, 0, -3], [-3, -3, -3]])\n",
    "kirsch_operator_90 = np.array([[5, -3, -3], [5, 0, -3], [5, -3, -3]])\n",
    "kirsch_operator_135 = np.array([[-3, -3, -3], [5, 0, -3], [5, 5, -3]])\n",
    "kirsch_operator_180 = np.array([[-3, -3, -3], [-3, 0, -3], [5, 5, 5]])\n",
    "kirsch_operator_225 = np.array([[-3, -3, -3], [-3, 0, 5], [-3, 5, 5]])\n",
    "kirsch_operator_270 = np.array([[-3, -3, 5], [-3, 0, 5], [-3, -3, 5]])\n",
    "kirsch_operator_315 = np.array([[-3, 5, 5], [-3, 0, 5], [-3, -3, -3]])\n",
    "\n",
    "kirsch_edge_0 = cv2.filter2D(img, cv2.CV_64F, kirsch_operator_0)\n",
    "kirsch_edge_45 = cv2.filter2D(img, cv2.CV_64F, kirsch_operator_45)\n",
    "kirsch_edge_90 = cv2.filter2D(img, cv2.CV_64F, kirsch_operator_90)\n",
    "kirsch_edge_135 = cv2.filter2D(img, cv2.CV_64F, kirsch_operator_135)\n",
    "kirsch_edge_180 = cv2.filter2D(img, cv2.CV_64F, kirsch_operator_180)\n",
    "kirsch_edge_225 = cv2.filter2D(img, cv2.CV_64F, kirsch_operator_225)\n",
    "kirsch_edge_270 = cv2.filter2D(img, cv2.CV_64F, kirsch_operator_270)\n",
    "kirsch_edge_315 = cv2.filter2D(img, cv2.CV_64F, kirsch_operator_315)\n",
    "\n",
    "kirsch_edge = np.maximum.reduce([kirsch_edge_0, kirsch_edge_45, kirsch_edge_90, kirsch_edge_135, kirsch_edge_180, kirsch_edge_225, kirsch_edge_270, kirsch_edge_315], axis=0)\n",
    "\n",
    "cv2.imwrite('../assets/kirsch/kirsch_edge.jpeg',kirsch_edge)\n",
    "cv2.imwrite('../assets/kirsch/kirsch_edge_0.jpeg', kirsch_edge_0)\n",
    "cv2.imwrite('../assets/kirsch/kirsch_edge_45.jpeg', kirsch_edge_45)\n",
    "cv2.imwrite('../assets/kirsch/kirsch_edge_90.jpeg', kirsch_edge_90)\n",
    "cv2.imwrite('../assets/kirsch/kirsch_edge_135.jpeg', kirsch_edge_135)\n",
    "cv2.imwrite('../assets/kirsch/kirsch_edge_180.jpeg', kirsch_edge_180)\n",
    "cv2.imwrite('../assets/kirsch/kirsch_edge_225.jpeg', kirsch_edge_225)\n",
    "cv2.imwrite('../assets/kirsch/kirsch_edge_270.jpeg', kirsch_edge_270)\n",
    "cv2.imwrite('../assets/kirsch/kirsch_edge_315.jpeg', kirsch_edge_315)"
   ]
  },
  {
   "cell_type": "markdown",
   "metadata": {},
   "source": [
    "# Edge detection using Robinson Operator"
   ]
  },
  {
   "cell_type": "code",
   "execution_count": 80,
   "metadata": {},
   "outputs": [
    {
     "data": {
      "text/plain": [
       "True"
      ]
     },
     "execution_count": 80,
     "metadata": {},
     "output_type": "execute_result"
    }
   ],
   "source": [
    "robinson_operator_0 = np.array([[1, 2, 1], [0, 0, 0], [-1, -2, -1]])\n",
    "robinson_operator_45 = np.array([[2, 1, 0], [1, 0, -1], [0, -1, -2]])\n",
    "robinson_operator_90 = np.array([[1, 0, -1], [2, 0, -2], [1, 0, -1]])\n",
    "robinson_operator_135 = np.array([[0, -1, -2], [1, 0, -1], [2, 1, 0]])\n",
    "robinson_operator_180 = np.array([[-1, -2, -1], [0, 0, 0], [1, 2, 1]])\n",
    "robinson_operator_225 = np.array([[-2, -1, 0], [-1, 0, 1], [0, 1, 2]])\n",
    "robinson_operator_270 = np.array([[-1, 0, 1], [-2, 0, 2], [-1, 0, 1]])\n",
    "robinson_operator_315 = np.array([[0, 1, 2], [-1, 0, 1], [-2, -1, 0]])\n",
    "\n",
    "robinson_edge_0 = cv2.filter2D(img, cv2.CV_64F, robinson_operator_0)\n",
    "robinson_edge_45 = cv2.filter2D(img, cv2.CV_64F, robinson_operator_45)\n",
    "robinson_edge_90 = cv2.filter2D(img, cv2.CV_64F, robinson_operator_90)\n",
    "robinson_edge_135 = cv2.filter2D(img, cv2.CV_64F, robinson_operator_135)\n",
    "robinson_edge_180 = cv2.filter2D(img, cv2.CV_64F, robinson_operator_180)\n",
    "robinson_edge_225 = cv2.filter2D(img, cv2.CV_64F, robinson_operator_225)\n",
    "robinson_edge_270 = cv2.filter2D(img, cv2.CV_64F, robinson_operator_270)\n",
    "robinson_edge_315 = cv2.filter2D(img, cv2.CV_64F, robinson_operator_315)\n",
    "\n",
    "robinson_edge = np.maximum.reduce([robinson_edge_0, robinson_edge_45, robinson_edge_90, robinson_edge_135, robinson_edge_180, robinson_edge_225, robinson_edge_270, robinson_edge_315])\n",
    "\n",
    "cv2.imwrite('../assets/robinson/robinson_edge.jpeg', robinson_edge)\n",
    "cv2.imwrite('../assets/robinson/robinson_edge_0.jpeg', robinson_edge_0)\n",
    "cv2.imwrite('../assets/robinson/robinson_edge_45.jpeg', robinson_edge_45)\n",
    "cv2.imwrite('../assets/robinson/robinson_edge_90.jpeg', robinson_edge_90)\n",
    "cv2.imwrite('../assets/robinson/robinson_edge_135.jpeg', robinson_edge_135)\n",
    "cv2.imwrite('../assets/robinson/robinson_edge_180.jpeg', robinson_edge_180)\n",
    "cv2.imwrite('../assets/robinson/robinson_edge_225.jpeg', robinson_edge_225)\n",
    "cv2.imwrite('../assets/robinson/robinson_edge_270.jpeg', robinson_edge_270)\n",
    "cv2.imwrite('../assets/robinson/robinson_edge_315.jpeg', robinson_edge_315)"
   ]
  },
  {
   "cell_type": "markdown",
   "metadata": {},
   "source": [
    "# Edge detection using Frie - Chen Operator"
   ]
  },
  {
   "cell_type": "code",
   "execution_count": 81,
   "metadata": {},
   "outputs": [
    {
     "data": {
      "text/plain": [
       "True"
      ]
     },
     "execution_count": 81,
     "metadata": {},
     "output_type": "execute_result"
    }
   ],
   "source": [
    "frie_chen_operator_0 = np.array([[3, 10, 3], [0, 0, 0], [-3, -10, -3]])\n",
    "frie_chen_operator_45 = np.array([[10, 3, 0], [3, 0, -3], [0, -3, -10]])\n",
    "frie_chen_operator_90 = np.array([[3, 0, -3], [10, 0, -10], [3, 0, -3]])\n",
    "frie_chen_operator_135 = np.array([[0, -3, -10], [3, 0, -3], [10, 3, 0]])\n",
    "frie_chen_operator_180 = np.array([[-3, -10, -3], [0, 0, 0], [3, 10, 3]])\n",
    "frie_chen_operator_225 = np.array([[-10, -3, 0], [-3, 0, 3], [0, 3, 10]])\n",
    "frie_chen_operator_270 = np.array([[-3, 0, 3], [-10, 0, 10], [-3, 0, 3]])\n",
    "frie_chen_operator_315 = np.array([[0, 3, 10], [-3, 0, 3], [-10, -3, 0]])\n",
    "\n",
    "frie_chen_edge_0 = cv2.filter2D(img, cv2.CV_64F, frie_chen_operator_0)\n",
    "frie_chen_edge_45 = cv2.filter2D(img, cv2.CV_64F, frie_chen_operator_45)\n",
    "frie_chen_edge_90 = cv2.filter2D(img, cv2.CV_64F, frie_chen_operator_90)\n",
    "frie_chen_edge_135 = cv2.filter2D(img, cv2.CV_64F, frie_chen_operator_135)\n",
    "frie_chen_edge_180 = cv2.filter2D(img, cv2.CV_64F, frie_chen_operator_180)\n",
    "frie_chen_edge_225 = cv2.filter2D(img, cv2.CV_64F, frie_chen_operator_225)\n",
    "frie_chen_edge_270 = cv2.filter2D(img, cv2.CV_64F, frie_chen_operator_270)\n",
    "frie_chen_edge_315 = cv2.filter2D(img, cv2.CV_64F, frie_chen_operator_315)\n",
    "\n",
    "frie_chen_edge = np.maximum.reduce([frie_chen_edge_0, frie_chen_edge_45, frie_chen_edge_90, frie_chen_edge_135, frie_chen_edge_180, frie_chen_edge_225, frie_chen_edge_270, frie_chen_edge_315])\n",
    "\n",
    "cv2.imwrite('../assets/frie_chen/frie_chen_edge.jpeg', frie_chen_edge)\n",
    "cv2.imwrite('../assets/frie_chen/frie_chen_edge_0.jpeg', frie_chen_edge_0)\n",
    "cv2.imwrite('../assets/frie_chen/frie_chen_edge_45.jpeg', frie_chen_edge_45)\n",
    "cv2.imwrite('../assets/frie_chen/frie_chen_edge_90.jpeg', frie_chen_edge_90)\n",
    "cv2.imwrite('../assets/frie_chen/frie_chen_edge_135.jpeg', frie_chen_edge_135)\n",
    "cv2.imwrite('../assets/frie_chen/frie_chen_edge_180.jpeg', frie_chen_edge_180)\n",
    "cv2.imwrite('../assets/frie_chen/frie_chen_edge_225.jpeg', frie_chen_edge_225)\n",
    "cv2.imwrite('../assets/frie_chen/frie_chen_edge_270.jpeg', frie_chen_edge_270)\n",
    "cv2.imwrite('../assets/frie_chen/frie_chen_edge_315.jpeg', frie_chen_edge_315)"
   ]
  },
  {
   "cell_type": "markdown",
   "metadata": {},
   "source": [
    "# Edge detection using Laplacian Operator"
   ]
  },
  {
   "cell_type": "code",
   "execution_count": 82,
   "metadata": {},
   "outputs": [
    {
     "data": {
      "text/plain": [
       "True"
      ]
     },
     "execution_count": 82,
     "metadata": {},
     "output_type": "execute_result"
    }
   ],
   "source": [
    "laplacian_operator = np.array([[0, -1, 0], [-1, 4, -1], [0, -1, 0]])\n",
    "\n",
    "laplacian_edge = cv2.filter2D(img, cv2.CV_64F, laplacian_operator)\n",
    "\n",
    "cv2.imwrite('../assets/laplace/laplacian_edge.jpeg', laplacian_edge)"
   ]
  },
  {
   "cell_type": "markdown",
   "metadata": {},
   "source": [
    "# Marr Hildreth Edge Detector (LoG)"
   ]
  },
  {
   "cell_type": "code",
   "execution_count": 83,
   "metadata": {},
   "outputs": [
    {
     "data": {
      "text/plain": [
       "True"
      ]
     },
     "execution_count": 83,
     "metadata": {},
     "output_type": "execute_result"
    }
   ],
   "source": [
    "sigma = 1.4\n",
    "kernel_size = int(2 * round(3 * sigma) + 1)\n",
    "\n",
    "img_blur = cv2.GaussianBlur(img, (kernel_size, kernel_size), sigma)\n",
    "\n",
    "marr_hildreth_edge = cv2.Laplacian(img_blur, cv2.CV_64F)\n",
    "\n",
    "cv2.imwrite('../assets/marr_hildreth/marr_hildreth_edge.jpeg', marr_hildreth_edge)"
   ]
  },
  {
   "cell_type": "markdown",
   "metadata": {},
   "source": [
    "# Canny Edge detector"
   ]
  },
  {
   "cell_type": "code",
   "execution_count": 84,
   "metadata": {},
   "outputs": [
    {
     "data": {
      "text/plain": [
       "True"
      ]
     },
     "execution_count": 84,
     "metadata": {},
     "output_type": "execute_result"
    }
   ],
   "source": [
    "canny_edge = cv2.Canny(img, 100, 200)\n",
    "\n",
    "cv2.imwrite('../assets/canny/canny_edge.jpeg', canny_edge)"
   ]
  }
 ],
 "metadata": {
  "kernelspec": {
   "display_name": "cv",
   "language": "python",
   "name": "python3"
  },
  "language_info": {
   "codemirror_mode": {
    "name": "ipython",
    "version": 3
   },
   "file_extension": ".py",
   "mimetype": "text/x-python",
   "name": "python",
   "nbconvert_exporter": "python",
   "pygments_lexer": "ipython3",
   "version": "3.12.4"
  }
 },
 "nbformat": 4,
 "nbformat_minor": 2
}
